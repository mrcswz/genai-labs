{
  "cells": [
    {
      "cell_type": "code",
      "id": "lXuPq3kuEMllD8xit2TdqaIv",
      "metadata": {
        "tags": [],
        "id": "lXuPq3kuEMllD8xit2TdqaIv",
        "colab": {
          "base_uri": "https://localhost:8080/"
        },
        "executionInfo": {
          "status": "ok",
          "timestamp": 1730179236670,
          "user_tz": -60,
          "elapsed": 41787,
          "user": {
            "displayName": "",
            "userId": ""
          }
        },
        "outputId": "01a67a19-7c57-4823-dc91-4ba85b23ad3b"
      },
      "source": [
        "!pip install --quiet --upgrade google_cloud_firestore google_cloud_aiplatform langchain langchain-google-vertexai langchain_community langchain_experimental pymupdf"
      ],
      "execution_count": 1,
      "outputs": [
        {
          "output_type": "stream",
          "name": "stdout",
          "text": [
            "\u001b[2K     \u001b[90m━━━━━━━━━━━━━━━━━━━━━━━━━━━━━━━━━━━━━━━━\u001b[0m \u001b[32m50.6/50.6 kB\u001b[0m \u001b[31m2.7 MB/s\u001b[0m eta \u001b[36m0:00:00\u001b[0m\n",
            "\u001b[2K   \u001b[90m━━━━━━━━━━━━━━━━━━━━━━━━━━━━━━━━━━━━━━━━\u001b[0m \u001b[32m336.8/336.8 kB\u001b[0m \u001b[31m10.9 MB/s\u001b[0m eta \u001b[36m0:00:00\u001b[0m\n",
            "\u001b[2K   \u001b[90m━━━━━━━━━━━━━━━━━━━━━━━━━━━━━━━━━━━━━━━━\u001b[0m \u001b[32m1.0/1.0 MB\u001b[0m \u001b[31m9.2 MB/s\u001b[0m eta \u001b[36m0:00:00\u001b[0m\n",
            "\u001b[2K   \u001b[90m━━━━━━━━━━━━━━━━━━━━━━━━━━━━━━━━━━━━━━━━\u001b[0m \u001b[32m88.6/88.6 kB\u001b[0m \u001b[31m5.0 MB/s\u001b[0m eta \u001b[36m0:00:00\u001b[0m\n",
            "\u001b[2K   \u001b[90m━━━━━━━━━━━━━━━━━━━━━━━━━━━━━━━━━━━━━━━━\u001b[0m \u001b[32m2.4/2.4 MB\u001b[0m \u001b[31m62.4 MB/s\u001b[0m eta \u001b[36m0:00:00\u001b[0m\n",
            "\u001b[2K   \u001b[90m━━━━━━━━━━━━━━━━━━━━━━━━━━━━━━━━━━━━━━━━\u001b[0m \u001b[32m208.1/208.1 kB\u001b[0m \u001b[31m14.2 MB/s\u001b[0m eta \u001b[36m0:00:00\u001b[0m\n",
            "\u001b[2K   \u001b[90m━━━━━━━━━━━━━━━━━━━━━━━━━━━━━━━━━━━━━━━━\u001b[0m \u001b[32m19.6/19.6 MB\u001b[0m \u001b[31m64.1 MB/s\u001b[0m eta \u001b[36m0:00:00\u001b[0m\n",
            "\u001b[2K   \u001b[90m━━━━━━━━━━━━━━━━━━━━━━━━━━━━━━━━━━━━━━━━\u001b[0m \u001b[32m130.5/130.5 kB\u001b[0m \u001b[31m9.4 MB/s\u001b[0m eta \u001b[36m0:00:00\u001b[0m\n",
            "\u001b[2K   \u001b[90m━━━━━━━━━━━━━━━━━━━━━━━━━━━━━━━━━━━━━━━━\u001b[0m \u001b[32m76.4/76.4 kB\u001b[0m \u001b[31m4.4 MB/s\u001b[0m eta \u001b[36m0:00:00\u001b[0m\n",
            "\u001b[2K   \u001b[90m━━━━━━━━━━━━━━━━━━━━━━━━━━━━━━━━━━━━━━━━\u001b[0m \u001b[32m78.0/78.0 kB\u001b[0m \u001b[31m4.8 MB/s\u001b[0m eta \u001b[36m0:00:00\u001b[0m\n",
            "\u001b[2K   \u001b[90m━━━━━━━━━━━━━━━━━━━━━━━━━━━━━━━━━━━━━━━━\u001b[0m \u001b[32m408.0/408.0 kB\u001b[0m \u001b[31m18.3 MB/s\u001b[0m eta \u001b[36m0:00:00\u001b[0m\n",
            "\u001b[2K   \u001b[90m━━━━━━━━━━━━━━━━━━━━━━━━━━━━━━━━━━━━━━━━\u001b[0m \u001b[32m296.9/296.9 kB\u001b[0m \u001b[31m17.3 MB/s\u001b[0m eta \u001b[36m0:00:00\u001b[0m\n",
            "\u001b[2K   \u001b[90m━━━━━━━━━━━━━━━━━━━━━━━━━━━━━━━━━━━━━━━━\u001b[0m \u001b[32m49.5/49.5 kB\u001b[0m \u001b[31m2.7 MB/s\u001b[0m eta \u001b[36m0:00:00\u001b[0m\n",
            "\u001b[2K   \u001b[90m━━━━━━━━━━━━━━━━━━━━━━━━━━━━━━━━━━━━━━━━\u001b[0m \u001b[32m144.5/144.5 kB\u001b[0m \u001b[31m9.9 MB/s\u001b[0m eta \u001b[36m0:00:00\u001b[0m\n",
            "\u001b[2K   \u001b[90m━━━━━━━━━━━━━━━━━━━━━━━━━━━━━━━━━━━━━━━━\u001b[0m \u001b[32m54.5/54.5 kB\u001b[0m \u001b[31m3.7 MB/s\u001b[0m eta \u001b[36m0:00:00\u001b[0m\n",
            "\u001b[2K   \u001b[90m━━━━━━━━━━━━━━━━━━━━━━━━━━━━━━━━━━━━━━━━\u001b[0m \u001b[32m58.3/58.3 kB\u001b[0m \u001b[31m3.3 MB/s\u001b[0m eta \u001b[36m0:00:00\u001b[0m\n",
            "\u001b[?25h"
          ]
        }
      ]
    },
    {
      "cell_type": "code",
      "source": [
        "import vertexai\n",
        "from vertexai.language_models import TextEmbeddingModel\n",
        "from vertexai.generative_models import GenerativeModel\n",
        "\n",
        "import pickle\n",
        "from IPython.display import display, Markdown\n",
        "\n",
        "from langchain_google_vertexai import VertexAIEmbeddings\n",
        "from langchain_community.document_loaders import PyMuPDFLoader\n",
        "from langchain_experimental.text_splitter import SemanticChunker\n",
        "\n",
        "from google.cloud import firestore\n",
        "from google.cloud.firestore_v1.vector import Vector\n",
        "from google.cloud.firestore_v1.base_vector_query import DistanceMeasure"
      ],
      "metadata": {
        "id": "w2rOa1uQuBe0",
        "executionInfo": {
          "status": "ok",
          "timestamp": 1730179266420,
          "user_tz": -60,
          "elapsed": 15821,
          "user": {
            "displayName": "",
            "userId": ""
          }
        }
      },
      "id": "w2rOa1uQuBe0",
      "execution_count": 2,
      "outputs": []
    },
    {
      "cell_type": "code",
      "source": [
        "vertexai.init(project='qwiklabs-gcp-02-a5948b2e0850', location='us-central1')"
      ],
      "metadata": {
        "id": "KXTdAPOcuC-d",
        "executionInfo": {
          "status": "ok",
          "timestamp": 1730179331205,
          "user_tz": -60,
          "elapsed": 3,
          "user": {
            "displayName": "",
            "userId": ""
          }
        }
      },
      "id": "KXTdAPOcuC-d",
      "execution_count": 3,
      "outputs": []
    },
    {
      "cell_type": "code",
      "source": [
        "embedding_model = VertexAIEmbeddings(model_name=\"text-embedding-004\")"
      ],
      "metadata": {
        "id": "AQm9AkhBuWSX",
        "executionInfo": {
          "status": "ok",
          "timestamp": 1730182300750,
          "user_tz": -60,
          "elapsed": 4,
          "user": {
            "displayName": "",
            "userId": ""
          }
        }
      },
      "id": "AQm9AkhBuWSX",
      "execution_count": 42,
      "outputs": []
    },
    {
      "cell_type": "code",
      "source": [
        "!gcloud storage cp gs://partner-genai-bucket/genai069/nyc_food_safety_manual.pdf ."
      ],
      "metadata": {
        "colab": {
          "base_uri": "https://localhost:8080/"
        },
        "id": "dykJA0Hvu2l7",
        "executionInfo": {
          "status": "ok",
          "timestamp": 1730179468944,
          "user_tz": -60,
          "elapsed": 4347,
          "user": {
            "displayName": "",
            "userId": ""
          }
        },
        "outputId": "ae47a004-6239-4b98-c21e-cc0bb3cf448f"
      },
      "id": "dykJA0Hvu2l7",
      "execution_count": 6,
      "outputs": [
        {
          "output_type": "stream",
          "name": "stdout",
          "text": [
            "Copying gs://partner-genai-bucket/genai069/nyc_food_safety_manual.pdf to file://./nyc_food_safety_manual.pdf\n",
            "\n",
            "Average throughput: 77.6MiB/s\n"
          ]
        }
      ]
    },
    {
      "cell_type": "code",
      "source": [
        "loader = PyMuPDFLoader('./nyc_food_safety_manual.pdf')\n",
        "\n",
        "data = loader.load()"
      ],
      "metadata": {
        "id": "sDEN7TmZu_I-",
        "executionInfo": {
          "status": "ok",
          "timestamp": 1730180175006,
          "user_tz": -60,
          "elapsed": 873,
          "user": {
            "displayName": "",
            "userId": ""
          }
        }
      },
      "id": "sDEN7TmZu_I-",
      "execution_count": 15,
      "outputs": []
    },
    {
      "cell_type": "code",
      "source": [
        "data[0]"
      ],
      "metadata": {
        "colab": {
          "base_uri": "https://localhost:8080/"
        },
        "id": "GWtTFt1Axnad",
        "executionInfo": {
          "status": "ok",
          "timestamp": 1730180193974,
          "user_tz": -60,
          "elapsed": 3,
          "user": {
            "displayName": "",
            "userId": ""
          }
        },
        "outputId": "1500c807-54e9-423e-9f2a-1fd4b30becd6"
      },
      "id": "GWtTFt1Axnad",
      "execution_count": 17,
      "outputs": [
        {
          "output_type": "execute_result",
          "data": {
            "text/plain": [
              "Document(metadata={'source': './nyc_food_safety_manual.pdf', 'file_path': './nyc_food_safety_manual.pdf', 'page': 0, 'total_pages': 94, 'format': 'PDF 1.6', 'title': 'FOR BIND Food Protect Manual rev6 14_Conv-Sig', 'author': 'Hizzoner', 'subject': '', 'keywords': '', 'creator': 'QuarkXPress 8.5', 'producer': 'Acrobat Distiller 8.0.0 (Macintosh)', 'creationDate': \"D:20140624124242-04'00'\", 'modDate': \"D:20151112105727-05'00'\", 'trapped': ''}, page_content='The Health Code\\nThese are regulations that were\\nformulated to allow the  Department\\nto effectively protect the health of the\\npopulation. Among the rules\\nembodied in the Health Code is\\nArticle 81 which regulates the oper-\\nations of food establishments for\\nthe purpose of preventing public\\nhealth hazards.\\nEnvironmental Health Division \\nThe Division of Environmental\\nHealth is the Commission within the\\nHealth Department that is concerned\\nwith public health and works to\\neliminate the incidence of injury and\\nillness caused by environmental factors.\\nThere are several Offices and\\nBureaus within this division. One\\nof these is the Bureau of Food\\nSafety and Community Sanitation\\nthat has the responsibility for con-\\nducting inspections of food service\\nand food processing establishments.\\nThese inspections are performed by\\nPublic Health Sanitarians.\\nAnti-corruption Warning\\nAll Sanitarians have Department\\nof Health and Mental Hygiene\\nbadges and identification cards\\nwhich they must display whenever\\nit is requested of them.\\nIt is illegal to offer a Sanitarian\\nany bribe, gratuity or reward for\\nofficial misconduct; this is a crime\\nthat can result in fines, and /or\\nimprisonment, and the revocation\\nof permits. Also, Sanitarians are not\\nauthorized to conduct any monetary\\ntransactions on behalf of the\\nDepartment.\\nInspector General\\nThis is an office that exists within\\nthe Health Department with the\\nresponsibility of investigating any\\nincidence of alleged corrupt activity.\\nInvestigations may be conducted as\\na result of complaints by employees\\nof the Department or members of\\nthe public.\\nHealth Academy\\nThe Health Academy is an office\\nwithin the Division of Environmental\\nHealth. One of its responsibilities is\\nto provide training and certification\\ncourses for individuals from the public\\nas mandated by the Health Code.\\nThe Food Protection Course is one\\nof the courses taught here. The Food\\nProtection Course is required by the\\nHealth Code for supervisors of food\\nservice establishments and non-retail\\nfood processing establishments. These\\nindividuals must take the course and\\npass an examination before a certifi-\\ncate is issued to them. A person\\nholding such a certificate must be on\\nthe premises and supervise all food\\npreparation activities during all hours\\nof operation. Several supervisors with\\nthis certification may be needed at an\\nestablishment to have coverage dur-\\ning all shifts, vacations or illnesses.\\nThe Food Protection Manual has\\nbeen designed to assist participants\\nof the course to better understand\\nthe principles of safe food handling.\\nIt serves as a reference for food ser-\\nvice operators and it includes the\\nnecessary information to pass the\\nfinal examination.\\nOn-Line Food Protection Course\\nThe Food Protection Course in\\nEnglish, Spanish and Chinese is\\nnow also available on-line. This\\ncourse is designed for individuals with\\nbusy schedules to study at their con-\\nvenience. After the completion of\\nthe course, a final examination is\\nscheduled at the Health Academy.\\nRegistration is done on-line. The\\nlink is: nyc.gov/foodprotectioncourse\\nRegister for Health Academy\\nClasses On-Line\\nYou may now register and pay\\nonline for courses offered at the\\nDepartment of Health and Mental\\nHygiene’s Health Academy, includ-\\ning the Food Protection Course for\\nrestaurants. This new service allows\\nyou to avoid going to the Citywide\\nLicensing Center to register for a\\ncourse. You may also use the on-line\\nservice to pay for and request an\\nappointment to replace your Food\\nProtection Certificate.\\nHow does it work?\\nGo to the registration web page,\\nnyc.gov/healthacademy, select a\\ncourse and date, pay the appropriate\\nfee and receive confirmation. \\nYou will be asked to provide some\\npersonal information before regis-\\ntering. In most cases, you will be\\nable to select from a list of course\\ndates. If you don’t see a date that is\\nconvenient, check back as new\\ncourse dates are added frequently.\\n1\\nfo d\\nP R O T E C T I O N  T R A I N I N G  M A N U A L\\nN E W  Y O R K  C I T Y  D E P A R T M E N T  O F  H E A L T H  &  M E N T A L  H Y G I E N E\\nINTRODUCTION\\nT\\nhe New York City Department of Health and Mental\\nHygiene has the jurisdiction to regulate all matters\\naffecting health in the city and to perform all those\\nfunctions and operations that relate to the health of the people\\nof the city.\\nINTRODUCTION\\n')"
            ]
          },
          "metadata": {},
          "execution_count": 17
        }
      ]
    },
    {
      "cell_type": "code",
      "source": [
        "def clean_page(page):\n",
        "  return page.page_content.replace(\"-\\n\",\"\")\\\n",
        "                          .replace(\"\\n\",\" \")\\\n",
        "                          .replace(\"\\x02\",\"\")\\\n",
        "                          .replace(\"\\x03\",\"\")\\\n",
        "                          .replace(\"fo d P R O T E C T I O N  T R A I N I N G  M A N U A L\",\"\")\\\n",
        "                          .replace(\"N E W  Y O R K  C I T Y  D E P A R T M E N T  O F  H E A L T H  &  M E N T A L  H Y G I E N E\",\"\")"
      ],
      "metadata": {
        "id": "hpRYLeQyvJ8c",
        "executionInfo": {
          "status": "ok",
          "timestamp": 1730180237731,
          "user_tz": -60,
          "elapsed": 2,
          "user": {
            "displayName": "",
            "userId": ""
          }
        }
      },
      "id": "hpRYLeQyvJ8c",
      "execution_count": 18,
      "outputs": []
    },
    {
      "cell_type": "code",
      "source": [
        "cleaned_pages = [clean_page(page) for page in data]"
      ],
      "metadata": {
        "id": "Apb5kBEVxLvs",
        "executionInfo": {
          "status": "ok",
          "timestamp": 1730180504618,
          "user_tz": -60,
          "elapsed": 4,
          "user": {
            "displayName": "",
            "userId": ""
          }
        }
      },
      "id": "Apb5kBEVxLvs",
      "execution_count": 19,
      "outputs": []
    },
    {
      "cell_type": "code",
      "source": [
        "!pip install langchain-openai"
      ],
      "metadata": {
        "colab": {
          "base_uri": "https://localhost:8080/"
        },
        "id": "83J1xLzz0SnI",
        "executionInfo": {
          "status": "ok",
          "timestamp": 1730181030737,
          "user_tz": -60,
          "elapsed": 5797,
          "user": {
            "displayName": "",
            "userId": ""
          }
        },
        "outputId": "021ba3b6-18d4-4c43-ff8c-5d6ff27194c4"
      },
      "id": "83J1xLzz0SnI",
      "execution_count": 26,
      "outputs": [
        {
          "output_type": "stream",
          "name": "stdout",
          "text": [
            "Collecting langchain-openai\n",
            "  Downloading langchain_openai-0.2.4-py3-none-any.whl.metadata (2.6 kB)\n",
            "Requirement already satisfied: langchain-core<0.4.0,>=0.3.13 in /usr/local/lib/python3.10/dist-packages (from langchain-openai) (0.3.13)\n",
            "Collecting openai<2.0.0,>=1.52.0 (from langchain-openai)\n",
            "  Downloading openai-1.52.2-py3-none-any.whl.metadata (24 kB)\n",
            "Collecting tiktoken<1,>=0.7 (from langchain-openai)\n",
            "  Downloading tiktoken-0.8.0-cp310-cp310-manylinux_2_17_x86_64.manylinux2014_x86_64.whl.metadata (6.6 kB)\n",
            "Requirement already satisfied: PyYAML>=5.3 in /usr/local/lib/python3.10/dist-packages (from langchain-core<0.4.0,>=0.3.13->langchain-openai) (6.0.2)\n",
            "Requirement already satisfied: jsonpatch<2.0,>=1.33 in /usr/local/lib/python3.10/dist-packages (from langchain-core<0.4.0,>=0.3.13->langchain-openai) (1.33)\n",
            "Requirement already satisfied: langsmith<0.2.0,>=0.1.125 in /usr/local/lib/python3.10/dist-packages (from langchain-core<0.4.0,>=0.3.13->langchain-openai) (0.1.137)\n",
            "Requirement already satisfied: packaging<25,>=23.2 in /usr/local/lib/python3.10/dist-packages (from langchain-core<0.4.0,>=0.3.13->langchain-openai) (24.1)\n",
            "Requirement already satisfied: pydantic<3.0.0,>=2.5.2 in /usr/local/lib/python3.10/dist-packages (from langchain-core<0.4.0,>=0.3.13->langchain-openai) (2.9.2)\n",
            "Requirement already satisfied: tenacity!=8.4.0,<10.0.0,>=8.1.0 in /usr/local/lib/python3.10/dist-packages (from langchain-core<0.4.0,>=0.3.13->langchain-openai) (9.0.0)\n",
            "Requirement already satisfied: typing-extensions>=4.7 in /usr/local/lib/python3.10/dist-packages (from langchain-core<0.4.0,>=0.3.13->langchain-openai) (4.12.2)\n",
            "Requirement already satisfied: anyio<5,>=3.5.0 in /usr/local/lib/python3.10/dist-packages (from openai<2.0.0,>=1.52.0->langchain-openai) (3.7.1)\n",
            "Requirement already satisfied: distro<2,>=1.7.0 in /usr/lib/python3/dist-packages (from openai<2.0.0,>=1.52.0->langchain-openai) (1.7.0)\n",
            "Requirement already satisfied: httpx<1,>=0.23.0 in /usr/local/lib/python3.10/dist-packages (from openai<2.0.0,>=1.52.0->langchain-openai) (0.27.2)\n",
            "Collecting jiter<1,>=0.4.0 (from openai<2.0.0,>=1.52.0->langchain-openai)\n",
            "  Downloading jiter-0.6.1-cp310-cp310-manylinux_2_17_x86_64.manylinux2014_x86_64.whl.metadata (5.2 kB)\n",
            "Requirement already satisfied: sniffio in /usr/local/lib/python3.10/dist-packages (from openai<2.0.0,>=1.52.0->langchain-openai) (1.3.1)\n",
            "Requirement already satisfied: tqdm>4 in /usr/local/lib/python3.10/dist-packages (from openai<2.0.0,>=1.52.0->langchain-openai) (4.66.5)\n",
            "Requirement already satisfied: regex>=2022.1.18 in /usr/local/lib/python3.10/dist-packages (from tiktoken<1,>=0.7->langchain-openai) (2024.9.11)\n",
            "Requirement already satisfied: requests>=2.26.0 in /usr/local/lib/python3.10/dist-packages (from tiktoken<1,>=0.7->langchain-openai) (2.32.3)\n",
            "Requirement already satisfied: idna>=2.8 in /usr/local/lib/python3.10/dist-packages (from anyio<5,>=3.5.0->openai<2.0.0,>=1.52.0->langchain-openai) (3.10)\n",
            "Requirement already satisfied: exceptiongroup in /usr/local/lib/python3.10/dist-packages (from anyio<5,>=3.5.0->openai<2.0.0,>=1.52.0->langchain-openai) (1.2.2)\n",
            "Requirement already satisfied: certifi in /usr/local/lib/python3.10/dist-packages (from httpx<1,>=0.23.0->openai<2.0.0,>=1.52.0->langchain-openai) (2024.8.30)\n",
            "Requirement already satisfied: httpcore==1.* in /usr/local/lib/python3.10/dist-packages (from httpx<1,>=0.23.0->openai<2.0.0,>=1.52.0->langchain-openai) (1.0.6)\n",
            "Requirement already satisfied: h11<0.15,>=0.13 in /usr/local/lib/python3.10/dist-packages (from httpcore==1.*->httpx<1,>=0.23.0->openai<2.0.0,>=1.52.0->langchain-openai) (0.14.0)\n",
            "Requirement already satisfied: jsonpointer>=1.9 in /usr/local/lib/python3.10/dist-packages (from jsonpatch<2.0,>=1.33->langchain-core<0.4.0,>=0.3.13->langchain-openai) (3.0.0)\n",
            "Requirement already satisfied: orjson<4.0.0,>=3.9.14 in /usr/local/lib/python3.10/dist-packages (from langsmith<0.2.0,>=0.1.125->langchain-core<0.4.0,>=0.3.13->langchain-openai) (3.10.10)\n",
            "Requirement already satisfied: requests-toolbelt<2.0.0,>=1.0.0 in /usr/local/lib/python3.10/dist-packages (from langsmith<0.2.0,>=0.1.125->langchain-core<0.4.0,>=0.3.13->langchain-openai) (1.0.0)\n",
            "Requirement already satisfied: annotated-types>=0.6.0 in /usr/local/lib/python3.10/dist-packages (from pydantic<3.0.0,>=2.5.2->langchain-core<0.4.0,>=0.3.13->langchain-openai) (0.7.0)\n",
            "Requirement already satisfied: pydantic-core==2.23.4 in /usr/local/lib/python3.10/dist-packages (from pydantic<3.0.0,>=2.5.2->langchain-core<0.4.0,>=0.3.13->langchain-openai) (2.23.4)\n",
            "Requirement already satisfied: charset-normalizer<4,>=2 in /usr/local/lib/python3.10/dist-packages (from requests>=2.26.0->tiktoken<1,>=0.7->langchain-openai) (3.4.0)\n",
            "Requirement already satisfied: urllib3<3,>=1.21.1 in /usr/local/lib/python3.10/dist-packages (from requests>=2.26.0->tiktoken<1,>=0.7->langchain-openai) (2.2.3)\n",
            "Downloading langchain_openai-0.2.4-py3-none-any.whl (50 kB)\n",
            "\u001b[2K   \u001b[90m━━━━━━━━━━━━━━━━━━━━━━━━━━━━━━━━━━━━━━━━\u001b[0m \u001b[32m50.4/50.4 kB\u001b[0m \u001b[31m2.3 MB/s\u001b[0m eta \u001b[36m0:00:00\u001b[0m\n",
            "\u001b[?25hDownloading openai-1.52.2-py3-none-any.whl (386 kB)\n",
            "\u001b[2K   \u001b[90m━━━━━━━━━━━━━━━━━━━━━━━━━━━━━━━━━━━━━━━━\u001b[0m \u001b[32m386.9/386.9 kB\u001b[0m \u001b[31m10.1 MB/s\u001b[0m eta \u001b[36m0:00:00\u001b[0m\n",
            "\u001b[?25hDownloading tiktoken-0.8.0-cp310-cp310-manylinux_2_17_x86_64.manylinux2014_x86_64.whl (1.2 MB)\n",
            "\u001b[2K   \u001b[90m━━━━━━━━━━━━━━━━━━━━━━━━━━━━━━━━━━━━━━━━\u001b[0m \u001b[32m1.2/1.2 MB\u001b[0m \u001b[31m39.7 MB/s\u001b[0m eta \u001b[36m0:00:00\u001b[0m\n",
            "\u001b[?25hDownloading jiter-0.6.1-cp310-cp310-manylinux_2_17_x86_64.manylinux2014_x86_64.whl (325 kB)\n",
            "\u001b[2K   \u001b[90m━━━━━━━━━━━━━━━━━━━━━━━━━━━━━━━━━━━━━━━━\u001b[0m \u001b[32m325.2/325.2 kB\u001b[0m \u001b[31m17.3 MB/s\u001b[0m eta \u001b[36m0:00:00\u001b[0m\n",
            "\u001b[?25hInstalling collected packages: jiter, tiktoken, openai, langchain-openai\n",
            "Successfully installed jiter-0.6.1 langchain-openai-0.2.4 openai-1.52.2 tiktoken-0.8.0\n"
          ]
        }
      ]
    },
    {
      "cell_type": "code",
      "source": [
        "from langchain_experimental.text_splitter import SemanticChunker\n",
        "\n",
        "# Create a text splitter\n",
        "text_splitter = SemanticChunker(embedding_model)\n",
        "\n",
        "# Split the first five cleaned pages into chunks\n",
        "first_five_pages = cleaned_pages[:5]\n",
        "chunked_content = []\n",
        "for page in first_five_pages:\n",
        "    chunks = text_splitter.split_text(page)\n",
        "    chunked_content.extend(chunks)\n",
        "\n",
        "# Generate embeddings for the chunks\n",
        "#chunked_embeddings = embedding_model.get_embeddings(chunked_content)"
      ],
      "metadata": {
        "id": "Wu7OiSpOy0qy",
        "executionInfo": {
          "status": "ok",
          "timestamp": 1730182317921,
          "user_tz": -60,
          "elapsed": 869,
          "user": {
            "displayName": "",
            "userId": ""
          }
        }
      },
      "id": "Wu7OiSpOy0qy",
      "execution_count": 44,
      "outputs": []
    },
    {
      "cell_type": "code",
      "source": [
        "chunked_embeddings = embedding_model.embed_documents(chunked_content)"
      ],
      "metadata": {
        "id": "eC9Y2MjVz7_A",
        "executionInfo": {
          "status": "ok",
          "timestamp": 1730182347999,
          "user_tz": -60,
          "elapsed": 1637,
          "user": {
            "displayName": "",
            "userId": ""
          }
        }
      },
      "id": "eC9Y2MjVz7_A",
      "execution_count": 45,
      "outputs": []
    },
    {
      "cell_type": "code",
      "source": [
        "!gsutil cp gs://partner-genai-bucket/genai069/chunked_content.pkl .\n",
        "!gsutil cp gs://partner-genai-bucket/genai069/chunked_embeddings.pkl .\n",
        "\n",
        "chunked_content = pickle.load(open(\"chunked_content.pkl\", \"rb\"))\n",
        "chunked_embeddings = pickle.load(open(\"chunked_embeddings.pkl\", \"rb\"))"
      ],
      "metadata": {
        "colab": {
          "base_uri": "https://localhost:8080/"
        },
        "id": "t0FTbmna44E4",
        "executionInfo": {
          "status": "ok",
          "timestamp": 1730182373429,
          "user_tz": -60,
          "elapsed": 6909,
          "user": {
            "displayName": "",
            "userId": ""
          }
        },
        "outputId": "40b70563-5f80-424e-fef1-75fd91721d0f"
      },
      "id": "t0FTbmna44E4",
      "execution_count": 46,
      "outputs": [
        {
          "output_type": "stream",
          "name": "stdout",
          "text": [
            "Copying gs://partner-genai-bucket/genai069/chunked_content.pkl...\n",
            "/ [1 files][280.7 KiB/280.7 KiB]                                                \n",
            "Operation completed over 1 objects/280.7 KiB.                                    \n",
            "Copying gs://partner-genai-bucket/genai069/chunked_embeddings.pkl...\n",
            "/ [1 files][  1.8 MiB/  1.8 MiB]                                                \n",
            "Operation completed over 1 objects/1.8 MiB.                                      \n"
          ]
        }
      ]
    },
    {
      "cell_type": "code",
      "source": [
        "db = firestore.Client(project=\"qwiklabs-gcp-02-a5948b2e0850\")"
      ],
      "metadata": {
        "id": "I2z7EbUF57vf",
        "executionInfo": {
          "status": "ok",
          "timestamp": 1730183627651,
          "user_tz": -60,
          "elapsed": 313,
          "user": {
            "displayName": "",
            "userId": ""
          }
        }
      },
      "id": "I2z7EbUF57vf",
      "execution_count": 57,
      "outputs": []
    },
    {
      "cell_type": "code",
      "source": [
        "collection = db.collection('food-safety')"
      ],
      "metadata": {
        "id": "x8Wilc9z67sW",
        "executionInfo": {
          "status": "ok",
          "timestamp": 1730183967405,
          "user_tz": -60,
          "elapsed": 3,
          "user": {
            "displayName": "",
            "userId": ""
          }
        }
      },
      "id": "x8Wilc9z67sW",
      "execution_count": 64,
      "outputs": []
    },
    {
      "cell_type": "code",
      "source": [
        "for i, (content, embedding) in enumerate(zip(chunked_content, chunked_embeddings)):\n",
        "    doc_ref = collection.document(f\"doc_{i}\")\n",
        "    doc_ref.set({\n",
        "        \"content\": content,\n",
        "        \"embedding\": Vector(embedding)\n",
        "    })"
      ],
      "metadata": {
        "id": "XD17ptwD7Gbl",
        "executionInfo": {
          "status": "ok",
          "timestamp": 1730185069851,
          "user_tz": -60,
          "elapsed": 18402,
          "user": {
            "displayName": "",
            "userId": ""
          }
        }
      },
      "id": "XD17ptwD7Gbl",
      "execution_count": 78,
      "outputs": []
    },
    {
      "cell_type": "code",
      "source": [
        "!gcloud firestore indexes composite create \\\n",
        "--collection-group=food-safety \\\n",
        "--query-scope=COLLECTION \\\n",
        "--field-config field-path=embedding,vector-config='{\"dimension\":\"768\", \"flat\": \"{}\"}' \\\n",
        "--project=\"qwiklabs-gcp-02-a5948b2e0850\""
      ],
      "metadata": {
        "colab": {
          "base_uri": "https://localhost:8080/"
        },
        "id": "aZPE0AKJ773m",
        "executionInfo": {
          "status": "ok",
          "timestamp": 1730185091528,
          "user_tz": -60,
          "elapsed": 1852,
          "user": {
            "displayName": "",
            "userId": ""
          }
        },
        "outputId": "05649a7d-96fb-4aa6-9d4f-6603376de8c4"
      },
      "id": "aZPE0AKJ773m",
      "execution_count": 79,
      "outputs": [
        {
          "output_type": "stream",
          "name": "stdout",
          "text": [
            "\u001b[1;31mERROR:\u001b[0m (gcloud.firestore.indexes.composite.create) ALREADY_EXISTS: index already exists\n"
          ]
        }
      ]
    },
    {
      "cell_type": "code",
      "source": [
        "from google.cloud.firestore_v1.base_vector_query import DistanceMeasure\n",
        "from google.cloud.firestore_v1.vector import Vector\n",
        "\n",
        "collection = db.collection('food-safety')\n",
        "\n",
        "def search_vector_database(query: str):\n",
        "  context = \"\"\n",
        "\n",
        "  query_embedding = embedding_model.embed_query(query)\n",
        "\n",
        "  vector_query = collection.find_nearest(\n",
        "    vector_field='embedding',\n",
        "    query_vector=Vector(query_embedding),\n",
        "    distance_measure=DistanceMeasure.EUCLIDEAN,\n",
        "    limit=5,\n",
        "  )\n",
        "\n",
        "  docs = vector_query.stream()\n",
        "\n",
        "  context = [result.to_dict()['content'] for result in docs]\n",
        "\n",
        "  return context"
      ],
      "metadata": {
        "id": "tIfcwcK89AEO",
        "executionInfo": {
          "status": "ok",
          "timestamp": 1730185104648,
          "user_tz": -60,
          "elapsed": 869,
          "user": {
            "displayName": "",
            "userId": ""
          }
        }
      },
      "id": "tIfcwcK89AEO",
      "execution_count": 80,
      "outputs": []
    },
    {
      "cell_type": "code",
      "source": [
        "search_vector_database(\"How should I store food?\")"
      ],
      "metadata": {
        "colab": {
          "base_uri": "https://localhost:8080/"
        },
        "id": "zJTmyfuW-hXu",
        "executionInfo": {
          "status": "ok",
          "timestamp": 1730185125168,
          "user_tz": -60,
          "elapsed": 7,
          "user": {
            "displayName": "",
            "userId": ""
          }
        },
        "outputId": "1de41862-b2af-483b-8c4e-b3a3d95b2d6d"
      },
      "id": "zJTmyfuW-hXu",
      "execution_count": 81,
      "outputs": [
        {
          "output_type": "execute_result",
          "data": {
            "text/plain": [
              "[' Store foods away from dripping condensate , at least six inches above the floor and with enough space between items to encourage air circulation. Freezer Storage Freezing is an excellent method for prolonging the shelf life of foods. By keeping foods frozen solid, the bacterial growth is minimal at best. However, if frozen foods are thawed and then refrozen, then harmful bacteria can reproduce to dangerous levels when thawed for the second time. In addition to that, the quality of the food is also affected. Never refreeze thawed foods, instead use them immediately. Keep the following rules in mind for freezer storage:  Use First In First Out method of stock rotation. All frozen foods should be frozen solid with temperature at 0°F or lower. Always use clean containers that are clearly labeled and marked, and have proper and secure lids. Allow adequate spacing between food containers to allow for proper air circulation. Never use the freezer for cooling hot foods. * * Tip: When receiving multiple items, always store the frozen foods first, then foods that are to be refrigerated, and finally the non perishable dry goods. Dry Storage Proper storage of dry foods such as cereals, flour, rice, starches, spices, canned goods, packaged foods and vegetables that do not require refrigeration ensures that these foods will still be usable when needed. Adequate storage space as well as low humidity (50% or less), and low temperatures (70 °F or less) are strongly recommended.',\n",
              " 'Only use food containers that are clean, non-absorbent and are made from food-grade material intended for such use. Containers made from metal may react with certain type of high acid foods such as sauerkraut, citrus juices, tomato sauce, etc. Plastic food-grade containers are the best choice for these types of foods. Containers made of copper, brass, tin and galvanized metal should not be used. The use of such products is prohibited. Re-using cardboard containers to store cooked foods is also a source of contamination. Lining containers with newspapers, menus or other publication before placing foods is also prohibited as chemical dyes from these can easily leach into foods. Storage Areas Foods should only be stored in designated areas. Storing foods in passageways, rest rooms, garbage areas, utility rooms, etc. would subject these to contamination. Raw foods must always be stored below and away from cooked foods to avoid cross contamination. Refrigerated Storage This type of storage is typically used for holding potentially hazardous foods as well as perishable foods for short periods of time—a few hours to a few days. An adequate number of efficient refrigerated units are required to store potentially hazardous cold foods. By keeping cold foods cold, the microorganisms that are found naturally on these foods are kept to a minimum. Cold temperature does not kill microorganisms, however, it slows down their growth. Pre-packaged cold foods must be stored at temperatures recommended by the manufacturer. This is especially important when dealing with vacuum packed foods, modified atmosphere packages and sous vide foods. Smoked fish is required by the Health Code to be stored at 38°F or below. Fresh meat, poultry and other potentially hazardous foods must be stored at 41°F or below, while frozen foods must be stored at 0°F or below.',\n",
              " 'In addition to the above, avoid sunlight as it may affect the quality of some foods. Following are some of the guidelines:  Use First In First Out method of stock rotation. Keep foods at least 6 inches off the floor. This allows for proper cleaning and to detect vermin activity. Keep foods in containers with tightly fitted lids. Keep dry storage areas well lighted and ventilated. Install shades on windows to prevent exposure from sunlight. Do not store foods under overhead water lines that may drip due to leaks or condensation. Do not store garbage in dry food storage areas. Make sure that dry storage area is vermin proof by sealing walls and baseboards and by repairing holes and other openings. * * Safety Tip: Storage of harmful chemicals in the food storage areas can create hazardous situations and hence is prohibited by law. All chemicals must be labeled properly and used in accordance to the instructions on the label. Pesticide use is prohibited unless used by a licensed pest control officer. Storage in Ice Whenever food items are to be stored in ice, care must be taken to ensure that water from the melted ice is constantly being drained so that the food remains on ice and not immersed in iced water.',\n",
              " 'Furthermore, it is improper to store food in ice machines or ice that will be later used for human consumption. Food should be stored at least six inches off the floor, away from walls and dripping pipes. Keep all food, bulk or otherwise, covered and safe from contamination. Check food daily and throw away any spoiled or contaminated food. Store cleaning, disinfecting, and other chemicals away from foods, clearly marked and in their original containers. Keep food refrigerated at a temperature of 41°F or below. Monitor temperatures regularly with a thermometer placed in the warmest part of the refrigerator. Keep all cooling compartments closed except when you are using them. Store food in a refrigerator in such a way that the air inside can circulate freely. Keep all refrigerated foods covered, and use up stored leftovers quickly. When dishes and utensils are sparkling clean, keep them that way by proper storage.',\n",
              " 'l Store food in vermin-proof containers — metal or glass  containers, with tightly fitted lids. l Remove dented, leaking, rusted, swollen or unlabeled canned goods. Cold Storage: l All PHFs must be stored at 41° F (Except smoked fish at 38° F and raw shell eggs at 45 ° F). l All cooked and ready-to-eat food must be stored away from and above raw food. l Do not store foods in quantities that exceed the storage unit’s  capacity. l Place a refrigeration thermometer in the warmest spot in the unit to measure ambient air temperature of the unit l Check for condensation that may contaminate food. l Keep frozen foods frozen at 0° F or lower. STORAGE ']"
            ]
          },
          "metadata": {},
          "execution_count": 81
        }
      ]
    },
    {
      "cell_type": "code",
      "source": [],
      "metadata": {
        "id": "RA5os0OKB1ek"
      },
      "id": "RA5os0OKB1ek",
      "execution_count": null,
      "outputs": []
    },
    {
      "cell_type": "code",
      "source": [],
      "metadata": {
        "id": "6RceofBiBYvk"
      },
      "id": "6RceofBiBYvk",
      "execution_count": null,
      "outputs": []
    }
  ],
  "metadata": {
    "kernelspec": {
      "display_name": "Python 3",
      "language": "python",
      "name": "python3"
    },
    "language_info": {
      "codemirror_mode": {
        "name": "ipython",
        "version": 3
      },
      "file_extension": ".py",
      "mimetype": "text/x-python",
      "name": "python",
      "nbconvert_exporter": "python",
      "pygments_lexer": "ipython3",
      "version": "3.10.10"
    },
    "colab": {
      "provenance": [],
      "name": "cymbal_ingest_database.ipynb"
    }
  },
  "nbformat": 4,
  "nbformat_minor": 5
}