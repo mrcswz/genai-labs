{
  "cells": [
    {
      "cell_type": "code",
      "execution_count": null,
      "id": "lXuPq3kuEMllD8xit2TdqaIv",
      "metadata": {
        "colab": {
          "base_uri": "https://localhost:8080/"
        },
        "executionInfo": {
          "elapsed": 41787,
          "status": "ok",
          "timestamp": 1730179236670,
          "user": {
            "displayName": "",
            "userId": ""
          },
          "user_tz": -60
        },
        "id": "lXuPq3kuEMllD8xit2TdqaIv",
        "outputId": "01a67a19-7c57-4823-dc91-4ba85b23ad3b",
        "tags": []
      },
      "outputs": [],
      "source": [
        "!pip install --quiet --upgrade google_cloud_firestore google_cloud_aiplatform langchain langchain-google-vertexai langchain_community langchain_experimental pymupdf"
      ]
    },
    {
      "cell_type": "code",
      "execution_count": 2,
      "id": "w2rOa1uQuBe0",
      "metadata": {
        "executionInfo": {
          "elapsed": 15821,
          "status": "ok",
          "timestamp": 1730179266420,
          "user": {
            "displayName": "",
            "userId": ""
          },
          "user_tz": -60
        },
        "id": "w2rOa1uQuBe0"
      },
      "outputs": [],
      "source": [
        "import vertexai\n",
        "from vertexai.language_models import TextEmbeddingModel\n",
        "from vertexai.generative_models import GenerativeModel\n",
        "\n",
        "import pickle\n",
        "from IPython.display import display, Markdown\n",
        "\n",
        "from langchain_google_vertexai import VertexAIEmbeddings\n",
        "from langchain_community.document_loaders import PyMuPDFLoader\n",
        "from langchain_experimental.text_splitter import SemanticChunker\n",
        "\n",
        "from google.cloud import firestore\n",
        "from google.cloud.firestore_v1.vector import Vector\n",
        "from google.cloud.firestore_v1.base_vector_query import DistanceMeasure"
      ]
    },
    {
      "cell_type": "code",
      "execution_count": 3,
      "id": "KXTdAPOcuC-d",
      "metadata": {
        "executionInfo": {
          "elapsed": 3,
          "status": "ok",
          "timestamp": 1730179331205,
          "user": {
            "displayName": "",
            "userId": ""
          },
          "user_tz": -60
        },
        "id": "KXTdAPOcuC-d"
      },
      "outputs": [],
      "source": [
        "vertexai.init(project='qwiklabs-gcp-02-a5948b2e0850', location='us-central1')"
      ]
    },
    {
      "cell_type": "code",
      "execution_count": 42,
      "id": "AQm9AkhBuWSX",
      "metadata": {
        "executionInfo": {
          "elapsed": 4,
          "status": "ok",
          "timestamp": 1730182300750,
          "user": {
            "displayName": "",
            "userId": ""
          },
          "user_tz": -60
        },
        "id": "AQm9AkhBuWSX"
      },
      "outputs": [],
      "source": [
        "embedding_model = VertexAIEmbeddings(model_name=\"text-embedding-004\")"
      ]
    },
    {
      "cell_type": "code",
      "execution_count": 6,
      "id": "dykJA0Hvu2l7",
      "metadata": {
        "colab": {
          "base_uri": "https://localhost:8080/"
        },
        "executionInfo": {
          "elapsed": 4347,
          "status": "ok",
          "timestamp": 1730179468944,
          "user": {
            "displayName": "",
            "userId": ""
          },
          "user_tz": -60
        },
        "id": "dykJA0Hvu2l7",
        "outputId": "ae47a004-6239-4b98-c21e-cc0bb3cf448f"
      },
      "outputs": [
        {
          "name": "stdout",
          "output_type": "stream",
          "text": [
            "Copying gs://partner-genai-bucket/genai069/nyc_food_safety_manual.pdf to file://./nyc_food_safety_manual.pdf\n",
            "\n",
            "Average throughput: 77.6MiB/s\n"
          ]
        }
      ],
      "source": [
        "!gcloud storage cp gs://partner-genai-bucket/genai069/nyc_food_safety_manual.pdf ."
      ]
    },
    {
      "cell_type": "code",
      "execution_count": 15,
      "id": "sDEN7TmZu_I-",
      "metadata": {
        "executionInfo": {
          "elapsed": 873,
          "status": "ok",
          "timestamp": 1730180175006,
          "user": {
            "displayName": "",
            "userId": ""
          },
          "user_tz": -60
        },
        "id": "sDEN7TmZu_I-"
      },
      "outputs": [],
      "source": [
        "loader = PyMuPDFLoader('./nyc_food_safety_manual.pdf')\n",
        "\n",
        "data = loader.load()"
      ]
    },
    {
      "cell_type": "code",
      "execution_count": 17,
      "id": "GWtTFt1Axnad",
      "metadata": {
        "colab": {
          "base_uri": "https://localhost:8080/"
        },
        "executionInfo": {
          "elapsed": 3,
          "status": "ok",
          "timestamp": 1730180193974,
          "user": {
            "displayName": "",
            "userId": ""
          },
          "user_tz": -60
        },
        "id": "GWtTFt1Axnad",
        "outputId": "1500c807-54e9-423e-9f2a-1fd4b30becd6"
      },
      "outputs": [
        {
          "data": {
            "text/plain": [
              "Document(metadata={'source': './nyc_food_safety_manual.pdf', 'file_path': './nyc_food_safety_manual.pdf', 'page': 0, 'total_pages': 94, 'format': 'PDF 1.6', 'title': 'FOR BIND Food Protect Manual rev6 14_Conv-Sig', 'author': 'Hizzoner', 'subject': '', 'keywords': '', 'creator': 'QuarkXPress 8.5', 'producer': 'Acrobat Distiller 8.0.0 (Macintosh)', 'creationDate': \"D:20140624124242-04'00'\", 'modDate': \"D:20151112105727-05'00'\", 'trapped': ''}, page_content='The Health Code\\nThese are regulations that were\\nformulated to allow the  Department\\nto effectively protect the health of the\\npopulation. Among the rules\\nembodied in the Health Code is\\nArticle 81 which regulates the oper-\\nations of food establishments for\\nthe purpose of preventing public\\nhealth hazards.\\nEnvironmental Health Division \\nThe Division of Environmental\\nHealth is the Commission within the\\nHealth Department that is concerned\\nwith public health and works to\\neliminate the incidence of injury and\\nillness caused by environmental factors.\\nThere are several Offices and\\nBureaus within this division. One\\nof these is the Bureau of Food\\nSafety and Community Sanitation\\nthat has the responsibility for con-\\nducting inspections of food service\\nand food processing establishments.\\nThese inspections are performed by\\nPublic Health Sanitarians.\\nAnti-corruption Warning\\nAll Sanitarians have Department\\nof Health and Mental Hygiene\\nbadges and identification cards\\nwhich they must display whenever\\nit is requested of them.\\nIt is illegal to offer a Sanitarian\\nany bribe, gratuity or reward for\\nofficial misconduct; this is a crime\\nthat can result in fines, and /or\\nimprisonment, and the revocation\\nof permits. Also, Sanitarians are not\\nauthorized to conduct any monetary\\ntransactions on behalf of the\\nDepartment.\\nInspector General\\nThis is an office that exists within\\nthe Health Department with the\\nresponsibility of investigating any\\nincidence of alleged corrupt activity.\\nInvestigations may be conducted as\\na result of complaints by employees\\nof the Department or members of\\nthe public.\\nHealth Academy\\nThe Health Academy is an office\\nwithin the Division of Environmental\\nHealth. One of its responsibilities is\\nto provide training and certification\\ncourses for individuals from the public\\nas mandated by the Health Code.\\nThe Food Protection Course is one\\nof the courses taught here. The Food\\nProtection Course is required by the\\nHealth Code for supervisors of food\\nservice establishments and non-retail\\nfood processing establishments. These\\nindividuals must take the course and\\npass an examination before a certifi-\\ncate is issued to them. A person\\nholding such a certificate must be on\\nthe premises and supervise all food\\npreparation activities during all hours\\nof operation. Several supervisors with\\nthis certification may be needed at an\\nestablishment to have coverage dur-\\ning all shifts, vacations or illnesses.\\nThe Food Protection Manual has\\nbeen designed to assist participants\\nof the course to better understand\\nthe principles of safe food handling.\\nIt serves as a reference for food ser-\\nvice operators and it includes the\\nnecessary information to pass the\\nfinal examination.\\nOn-Line Food Protection Course\\nThe Food Protection Course in\\nEnglish, Spanish and Chinese is\\nnow also available on-line. This\\ncourse is designed for individuals with\\nbusy schedules to study at their con-\\nvenience. After the completion of\\nthe course, a final examination is\\nscheduled at the Health Academy.\\nRegistration is done on-line. The\\nlink is: nyc.gov/foodprotectioncourse\\nRegister for Health Academy\\nClasses On-Line\\nYou may now register and pay\\nonline for courses offered at the\\nDepartment of Health and Mental\\nHygiene’s Health Academy, includ-\\ning the Food Protection Course for\\nrestaurants. This new service allows\\nyou to avoid going to the Citywide\\nLicensing Center to register for a\\ncourse. You may also use the on-line\\nservice to pay for and request an\\nappointment to replace your Food\\nProtection Certificate.\\nHow does it work?\\nGo to the registration web page,\\nnyc.gov/healthacademy, select a\\ncourse and date, pay the appropriate\\nfee and receive confirmation. \\nYou will be asked to provide some\\npersonal information before regis-\\ntering. In most cases, you will be\\nable to select from a list of course\\ndates. If you don’t see a date that is\\nconvenient, check back as new\\ncourse dates are added frequently.\\n1\\nfo d\\nP R O T E C T I O N  T R A I N I N G  M A N U A L\\nN E W  Y O R K  C I T Y  D E P A R T M E N T  O F  H E A L T H  &  M E N T A L  H Y G I E N E\\nINTRODUCTION\\nT\\nhe New York City Department of Health and Mental\\nHygiene has the jurisdiction to regulate all matters\\naffecting health in the city and to perform all those\\nfunctions and operations that relate to the health of the people\\nof the city.\\nINTRODUCTION\\n')"
            ]
          },
          "execution_count": 17,
          "metadata": {},
          "output_type": "execute_result"
        }
      ],
      "source": [
        "data[0]"
      ]
    },
    {
      "cell_type": "code",
      "execution_count": 18,
      "id": "hpRYLeQyvJ8c",
      "metadata": {
        "executionInfo": {
          "elapsed": 2,
          "status": "ok",
          "timestamp": 1730180237731,
          "user": {
            "displayName": "",
            "userId": ""
          },
          "user_tz": -60
        },
        "id": "hpRYLeQyvJ8c"
      },
      "outputs": [],
      "source": [
        "def clean_page(page):\n",
        "  return page.page_content.replace(\"-\\n\",\"\")\\\n",
        "                          .replace(\"\\n\",\" \")\\\n",
        "                          .replace(\"\\x02\",\"\")\\\n",
        "                          .replace(\"\\x03\",\"\")\\\n",
        "                          .replace(\"fo d P R O T E C T I O N  T R A I N I N G  M A N U A L\",\"\")\\\n",
        "                          .replace(\"N E W  Y O R K  C I T Y  D E P A R T M E N T  O F  H E A L T H  &  M E N T A L  H Y G I E N E\",\"\")"
      ]
    },
    {
      "cell_type": "code",
      "execution_count": 19,
      "id": "Apb5kBEVxLvs",
      "metadata": {
        "executionInfo": {
          "elapsed": 4,
          "status": "ok",
          "timestamp": 1730180504618,
          "user": {
            "displayName": "",
            "userId": ""
          },
          "user_tz": -60
        },
        "id": "Apb5kBEVxLvs"
      },
      "outputs": [],
      "source": [
        "cleaned_pages = [clean_page(page) for page in data]"
      ]
    },
    {
      "cell_type": "code",
      "execution_count": 44,
      "id": "Wu7OiSpOy0qy",
      "metadata": {
        "executionInfo": {
          "elapsed": 869,
          "status": "ok",
          "timestamp": 1730182317921,
          "user": {
            "displayName": "",
            "userId": ""
          },
          "user_tz": -60
        },
        "id": "Wu7OiSpOy0qy"
      },
      "outputs": [],
      "source": [
        "from langchain_experimental.text_splitter import SemanticChunker\n",
        "\n",
        "# Create a text splitter\n",
        "text_splitter = SemanticChunker(embedding_model)\n",
        "\n",
        "# Split the first five cleaned pages into chunks\n",
        "first_five_pages = cleaned_pages[:5]\n",
        "chunked_content = []\n",
        "for page in first_five_pages:\n",
        "    chunks = text_splitter.split_text(page)\n",
        "    chunked_content.extend(chunks)"
      ]
    },
    {
      "cell_type": "code",
      "execution_count": 45,
      "id": "eC9Y2MjVz7_A",
      "metadata": {
        "executionInfo": {
          "elapsed": 1637,
          "status": "ok",
          "timestamp": 1730182347999,
          "user": {
            "displayName": "",
            "userId": ""
          },
          "user_tz": -60
        },
        "id": "eC9Y2MjVz7_A"
      },
      "outputs": [],
      "source": [
        "# Generate embeddings for the chunks\n",
        "chunked_embeddings = embedding_model.embed_documents(chunked_content)"
      ]
    },
    {
      "cell_type": "code",
      "execution_count": 46,
      "id": "t0FTbmna44E4",
      "metadata": {
        "colab": {
          "base_uri": "https://localhost:8080/"
        },
        "executionInfo": {
          "elapsed": 6909,
          "status": "ok",
          "timestamp": 1730182373429,
          "user": {
            "displayName": "",
            "userId": ""
          },
          "user_tz": -60
        },
        "id": "t0FTbmna44E4",
        "outputId": "40b70563-5f80-424e-fef1-75fd91721d0f"
      },
      "outputs": [
        {
          "name": "stdout",
          "output_type": "stream",
          "text": [
            "Copying gs://partner-genai-bucket/genai069/chunked_content.pkl...\n",
            "/ [1 files][280.7 KiB/280.7 KiB]                                                \n",
            "Operation completed over 1 objects/280.7 KiB.                                    \n",
            "Copying gs://partner-genai-bucket/genai069/chunked_embeddings.pkl...\n",
            "/ [1 files][  1.8 MiB/  1.8 MiB]                                                \n",
            "Operation completed over 1 objects/1.8 MiB.                                      \n"
          ]
        }
      ],
      "source": [
        "!gsutil cp gs://partner-genai-bucket/genai069/chunked_content.pkl .\n",
        "!gsutil cp gs://partner-genai-bucket/genai069/chunked_embeddings.pkl .\n",
        "\n",
        "chunked_content = pickle.load(open(\"chunked_content.pkl\", \"rb\"))\n",
        "chunked_embeddings = pickle.load(open(\"chunked_embeddings.pkl\", \"rb\"))"
      ]
    },
    {
      "cell_type": "code",
      "execution_count": 57,
      "id": "I2z7EbUF57vf",
      "metadata": {
        "executionInfo": {
          "elapsed": 313,
          "status": "ok",
          "timestamp": 1730183627651,
          "user": {
            "displayName": "",
            "userId": ""
          },
          "user_tz": -60
        },
        "id": "I2z7EbUF57vf"
      },
      "outputs": [],
      "source": [
        "db = firestore.Client(project=\"qwiklabs-gcp-02-a5948b2e0850\")"
      ]
    },
    {
      "cell_type": "code",
      "execution_count": 64,
      "id": "x8Wilc9z67sW",
      "metadata": {
        "executionInfo": {
          "elapsed": 3,
          "status": "ok",
          "timestamp": 1730183967405,
          "user": {
            "displayName": "",
            "userId": ""
          },
          "user_tz": -60
        },
        "id": "x8Wilc9z67sW"
      },
      "outputs": [],
      "source": [
        "collection = db.collection('food-safety')"
      ]
    },
    {
      "cell_type": "code",
      "execution_count": 78,
      "id": "XD17ptwD7Gbl",
      "metadata": {
        "executionInfo": {
          "elapsed": 18402,
          "status": "ok",
          "timestamp": 1730185069851,
          "user": {
            "displayName": "",
            "userId": ""
          },
          "user_tz": -60
        },
        "id": "XD17ptwD7Gbl"
      },
      "outputs": [],
      "source": [
        "for i, (content, embedding) in enumerate(zip(chunked_content, chunked_embeddings)):\n",
        "    doc_ref = collection.document(f\"doc_{i}\")\n",
        "    doc_ref.set({\n",
        "        \"content\": content,\n",
        "        \"embedding\": Vector(embedding)\n",
        "    })"
      ]
    },
    {
      "cell_type": "code",
      "execution_count": null,
      "id": "aZPE0AKJ773m",
      "metadata": {
        "colab": {
          "base_uri": "https://localhost:8080/"
        },
        "executionInfo": {
          "elapsed": 1852,
          "status": "ok",
          "timestamp": 1730185091528,
          "user": {
            "displayName": "",
            "userId": ""
          },
          "user_tz": -60
        },
        "id": "aZPE0AKJ773m",
        "outputId": "05649a7d-96fb-4aa6-9d4f-6603376de8c4"
      },
      "outputs": [],
      "source": [
        "!gcloud firestore indexes composite create \\\n",
        "--collection-group=food-safety \\\n",
        "--query-scope=COLLECTION \\\n",
        "--field-config field-path=embedding,vector-config='{\"dimension\":\"768\", \"flat\": \"{}\"}' \\\n",
        "--project=\"qwiklabs-gcp-02-a5948b2e0850\""
      ]
    },
    {
      "cell_type": "code",
      "execution_count": 80,
      "id": "tIfcwcK89AEO",
      "metadata": {
        "executionInfo": {
          "elapsed": 869,
          "status": "ok",
          "timestamp": 1730185104648,
          "user": {
            "displayName": "",
            "userId": ""
          },
          "user_tz": -60
        },
        "id": "tIfcwcK89AEO"
      },
      "outputs": [],
      "source": [
        "from google.cloud.firestore_v1.base_vector_query import DistanceMeasure\n",
        "from google.cloud.firestore_v1.vector import Vector\n",
        "\n",
        "collection = db.collection('food-safety')\n",
        "\n",
        "def search_vector_database(query: str):\n",
        "  context = \"\"\n",
        "\n",
        "  query_embedding = embedding_model.embed_query(query)\n",
        "\n",
        "  vector_query = collection.find_nearest(\n",
        "    vector_field='embedding',\n",
        "    query_vector=Vector(query_embedding),\n",
        "    distance_measure=DistanceMeasure.EUCLIDEAN,\n",
        "    limit=5,\n",
        "  )\n",
        "\n",
        "  docs = vector_query.stream()\n",
        "\n",
        "  context = [result.to_dict()['content'] for result in docs]\n",
        "\n",
        "  return context"
      ]
    },
    {
      "cell_type": "code",
      "execution_count": 81,
      "id": "zJTmyfuW-hXu",
      "metadata": {
        "colab": {
          "base_uri": "https://localhost:8080/"
        },
        "executionInfo": {
          "elapsed": 7,
          "status": "ok",
          "timestamp": 1730185125168,
          "user": {
            "displayName": "",
            "userId": ""
          },
          "user_tz": -60
        },
        "id": "zJTmyfuW-hXu",
        "outputId": "1de41862-b2af-483b-8c4e-b3a3d95b2d6d"
      },
      "outputs": [
        {
          "data": {
            "text/plain": [
              "[' Store foods away from dripping condensate , at least six inches above the floor and with enough space between items to encourage air circulation. Freezer Storage Freezing is an excellent method for prolonging the shelf life of foods. By keeping foods frozen solid, the bacterial growth is minimal at best. However, if frozen foods are thawed and then refrozen, then harmful bacteria can reproduce to dangerous levels when thawed for the second time. In addition to that, the quality of the food is also affected. Never refreeze thawed foods, instead use them immediately. Keep the following rules in mind for freezer storage:  Use First In First Out method of stock rotation. All frozen foods should be frozen solid with temperature at 0°F or lower. Always use clean containers that are clearly labeled and marked, and have proper and secure lids. Allow adequate spacing between food containers to allow for proper air circulation. Never use the freezer for cooling hot foods. * * Tip: When receiving multiple items, always store the frozen foods first, then foods that are to be refrigerated, and finally the non perishable dry goods. Dry Storage Proper storage of dry foods such as cereals, flour, rice, starches, spices, canned goods, packaged foods and vegetables that do not require refrigeration ensures that these foods will still be usable when needed. Adequate storage space as well as low humidity (50% or less), and low temperatures (70 °F or less) are strongly recommended.',\n",
              " 'Only use food containers that are clean, non-absorbent and are made from food-grade material intended for such use. Containers made from metal may react with certain type of high acid foods such as sauerkraut, citrus juices, tomato sauce, etc. Plastic food-grade containers are the best choice for these types of foods. Containers made of copper, brass, tin and galvanized metal should not be used. The use of such products is prohibited. Re-using cardboard containers to store cooked foods is also a source of contamination. Lining containers with newspapers, menus or other publication before placing foods is also prohibited as chemical dyes from these can easily leach into foods. Storage Areas Foods should only be stored in designated areas. Storing foods in passageways, rest rooms, garbage areas, utility rooms, etc. would subject these to contamination. Raw foods must always be stored below and away from cooked foods to avoid cross contamination. Refrigerated Storage This type of storage is typically used for holding potentially hazardous foods as well as perishable foods for short periods of time—a few hours to a few days. An adequate number of efficient refrigerated units are required to store potentially hazardous cold foods. By keeping cold foods cold, the microorganisms that are found naturally on these foods are kept to a minimum. Cold temperature does not kill microorganisms, however, it slows down their growth. Pre-packaged cold foods must be stored at temperatures recommended by the manufacturer. This is especially important when dealing with vacuum packed foods, modified atmosphere packages and sous vide foods. Smoked fish is required by the Health Code to be stored at 38°F or below. Fresh meat, poultry and other potentially hazardous foods must be stored at 41°F or below, while frozen foods must be stored at 0°F or below.',\n",
              " 'In addition to the above, avoid sunlight as it may affect the quality of some foods. Following are some of the guidelines:  Use First In First Out method of stock rotation. Keep foods at least 6 inches off the floor. This allows for proper cleaning and to detect vermin activity. Keep foods in containers with tightly fitted lids. Keep dry storage areas well lighted and ventilated. Install shades on windows to prevent exposure from sunlight. Do not store foods under overhead water lines that may drip due to leaks or condensation. Do not store garbage in dry food storage areas. Make sure that dry storage area is vermin proof by sealing walls and baseboards and by repairing holes and other openings. * * Safety Tip: Storage of harmful chemicals in the food storage areas can create hazardous situations and hence is prohibited by law. All chemicals must be labeled properly and used in accordance to the instructions on the label. Pesticide use is prohibited unless used by a licensed pest control officer. Storage in Ice Whenever food items are to be stored in ice, care must be taken to ensure that water from the melted ice is constantly being drained so that the food remains on ice and not immersed in iced water.',\n",
              " 'Furthermore, it is improper to store food in ice machines or ice that will be later used for human consumption. Food should be stored at least six inches off the floor, away from walls and dripping pipes. Keep all food, bulk or otherwise, covered and safe from contamination. Check food daily and throw away any spoiled or contaminated food. Store cleaning, disinfecting, and other chemicals away from foods, clearly marked and in their original containers. Keep food refrigerated at a temperature of 41°F or below. Monitor temperatures regularly with a thermometer placed in the warmest part of the refrigerator. Keep all cooling compartments closed except when you are using them. Store food in a refrigerator in such a way that the air inside can circulate freely. Keep all refrigerated foods covered, and use up stored leftovers quickly. When dishes and utensils are sparkling clean, keep them that way by proper storage.',\n",
              " 'l Store food in vermin-proof containers — metal or glass  containers, with tightly fitted lids. l Remove dented, leaking, rusted, swollen or unlabeled canned goods. Cold Storage: l All PHFs must be stored at 41° F (Except smoked fish at 38° F and raw shell eggs at 45 ° F). l All cooked and ready-to-eat food must be stored away from and above raw food. l Do not store foods in quantities that exceed the storage unit’s  capacity. l Place a refrigeration thermometer in the warmest spot in the unit to measure ambient air temperature of the unit l Check for condensation that may contaminate food. l Keep frozen foods frozen at 0° F or lower. STORAGE ']"
            ]
          },
          "execution_count": 81,
          "metadata": {},
          "output_type": "execute_result"
        }
      ],
      "source": [
        "search_vector_database(\"How should I store food?\")"
      ]
    }
  ],
  "metadata": {
    "colab": {
      "name": "cymbal_ingest_database.ipynb",
      "provenance": []
    },
    "kernelspec": {
      "display_name": "Python 3",
      "language": "python",
      "name": "python3"
    },
    "language_info": {
      "codemirror_mode": {
        "name": "ipython",
        "version": 3
      },
      "file_extension": ".py",
      "mimetype": "text/x-python",
      "name": "python",
      "nbconvert_exporter": "python",
      "pygments_lexer": "ipython3",
      "version": "3.10.10"
    }
  },
  "nbformat": 4,
  "nbformat_minor": 5
}
